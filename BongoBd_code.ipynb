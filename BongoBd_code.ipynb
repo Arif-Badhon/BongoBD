{
  "nbformat": 4,
  "nbformat_minor": 0,
  "metadata": {
    "colab": {
      "name": "BongoBd_code",
      "provenance": [],
      "authorship_tag": "ABX9TyMTTHMvQ2Dp+NWf9HgTaKFO",
      "include_colab_link": true
    },
    "kernelspec": {
      "name": "python3",
      "display_name": "Python 3"
    }
  },
  "cells": [
    {
      "cell_type": "markdown",
      "metadata": {
        "id": "view-in-github",
        "colab_type": "text"
      },
      "source": [
        "<a href=\"https://colab.research.google.com/github/Arif-Badhon/BongoBD/blob/master/BongoBd_code.ipynb\" target=\"_parent\"><img src=\"https://colab.research.google.com/assets/colab-badge.svg\" alt=\"Open In Colab\"/></a>"
      ]
    },
    {
      "cell_type": "markdown",
      "metadata": {
        "id": "hLcwCkvkJeHO",
        "colab_type": "text"
      },
      "source": [
        "Write the following function’s body. A nested dictionary is passed as parameter. You need to\n",
        "print all keys with their depth.\n",
        "a = {\n",
        "“key1”: 1,\n",
        "“”key2”: {\n",
        "“key3”: 1,\n",
        "“key4”: {\n",
        "“key5”: 4\n",
        "}\n",
        "}\n",
        "}"
      ]
    },
    {
      "cell_type": "code",
      "metadata": {
        "id": "DM3EoNIWJX5b",
        "colab_type": "code",
        "colab": {
          "base_uri": "https://localhost:8080/",
          "height": 102
        },
        "outputId": "cc587aab-d32f-4e9f-fccf-63502873c85c"
      },
      "source": [
        "def print_depth(d, start=0):\n",
        "    for key, value in d.items():\n",
        "        print(key, start + 1)\n",
        "        if isinstance(value, dict):\n",
        "            print_depth(value, start=start+1)\n",
        "\n",
        "\n",
        "a = {\n",
        "    \"key1\": 1,\n",
        "    \"key2\": {\n",
        "        \"key3\": 1,\n",
        "        \"key4\": {\n",
        "            \"key5\": 4\n",
        "        }\n",
        "    }\n",
        "}\n",
        "\n",
        "print_depth(a)"
      ],
      "execution_count": 1,
      "outputs": [
        {
          "output_type": "stream",
          "text": [
            "key1 1\n",
            "key2 1\n",
            "key3 2\n",
            "key4 2\n",
            "key5 3\n"
          ],
          "name": "stdout"
        }
      ]
    },
    {
      "cell_type": "markdown",
      "metadata": {
        "id": "l1UHgpquJ5ZK",
        "colab_type": "text"
      },
      "source": [
        "Write a new function with same functionality from Question 1, but it should be able to handle\n",
        "a Python object in addition to a dictionary from Question 1."
      ]
    },
    {
      "cell_type": "code",
      "metadata": {
        "id": "QMYMEAtcJ8iy",
        "colab_type": "code",
        "colab": {
          "base_uri": "https://localhost:8080/",
          "height": 204
        },
        "outputId": "f934caec-c737-485e-f1be-b1e38962d052"
      },
      "source": [
        "class Person(object):\n",
        "\tdef __init__(self, first_name, last_name, father):\n",
        "\t\tself.first_name = first_name\n",
        "\t\tself.last_name = last_name\n",
        "\t\tself.father = father\n",
        "\n",
        "\n",
        "\n",
        "def print_depth(d, start=0):\n",
        "    for key, value in d.items():\n",
        "        print(key, start + 1)\n",
        "        if isinstance(value, dict):\n",
        "            print_depth(value, start=start+1)\n",
        "\n",
        "\n",
        "a = {\n",
        "    \"key1\": 1,\n",
        "    \"key2\": {\n",
        "        \"key3\": 1,\n",
        "        \"key4\": {\n",
        "            \"key5\": 4\n",
        "        }\n",
        "    }\n",
        "}\n",
        "\n",
        "print_depth(a)\n",
        "\n",
        "\n",
        "\n",
        "person_a = Person(\"Arif\", \"Badhon\", \"Fayek\")\n",
        "person_b = Person(\"User\", \"2\", person_a)\n",
        "\n",
        "\n",
        "list1 = person_a.__dict__\n",
        "for key in list1:\n",
        "\tprint(\"{} : {}\".format(key, list1[key]))\n",
        "\n",
        "list2 = person_b.__dict__\n",
        "for key in list2:\n",
        "\tprint(\"{} : {}\".format(key, list2[key]))"
      ],
      "execution_count": 2,
      "outputs": [
        {
          "output_type": "stream",
          "text": [
            "key1 1\n",
            "key2 1\n",
            "key3 2\n",
            "key4 2\n",
            "key5 3\n",
            "first_name : Arif\n",
            "last_name : Badhon\n",
            "father : Fayek\n",
            "first_name : User\n",
            "last_name : 2\n",
            "father : <__main__.Person object at 0x7fc66132bc18>\n"
          ],
          "name": "stdout"
        }
      ]
    },
    {
      "cell_type": "markdown",
      "metadata": {
        "id": "r81MJD9tKCfd",
        "colab_type": "text"
      },
      "source": [
        "Write following functions body. 2 Nodes are passed as parameter. You need to find Least\n",
        "Common Ancestor and print its value. Node structure are as following:"
      ]
    },
    {
      "cell_type": "code",
      "metadata": {
        "id": "d_B79CvLKG8d",
        "colab_type": "code",
        "colab": {
          "base_uri": "https://localhost:8080/",
          "height": 136
        },
        "outputId": "70496a0b-767d-4667-d711-85034f6aef30"
      },
      "source": [
        "class Node: \n",
        "    \n",
        "    def __init__(self, key): \n",
        "        self.key =  key \n",
        "        self.left = None\n",
        "        self.right = None\n",
        "  \n",
        "\n",
        "def findPath( root, path, k): \n",
        "  \n",
        "    # Baes Case \n",
        "    if root is None: \n",
        "        return False\n",
        "  \n",
        "    \n",
        "    path.append(root.key) \n",
        "  \n",
        "    \n",
        "    if root.key == k : \n",
        "        return True\n",
        "  \n",
        "    \n",
        "    if ((root.left != None and findPath(root.left, path, k)) or\n",
        "            (root.right!= None and findPath(root.right, path, k))): \n",
        "        return True \n",
        "  \n",
        "    \n",
        "       \n",
        "    path.pop() \n",
        "    return False\n",
        "  \n",
        "\n",
        "def findLCA(root, n1, n2): \n",
        "  \n",
        "   \n",
        "    path1 = [] \n",
        "    path2 = [] \n",
        "   \n",
        "    if (not findPath(root, path1, n1) or not findPath(root, path2, n2)): \n",
        "        return -1 \n",
        "  \n",
        "   \n",
        "    i = 0 \n",
        "    while(i < len(path1) and i < len(path2)): \n",
        "        if path1[i] != path2[i]: \n",
        "            break\n",
        "        i += 1\n",
        "    return path1[i-1] \n",
        "  \n",
        "  \n",
        "root = Node(1) \n",
        "root.left = Node(2) \n",
        "root.right = Node(3) \n",
        "root.left.left = Node(4) \n",
        "root.left.right = Node(5) \n",
        "root.right.left = Node(6) \n",
        "root.right.right = Node(7) \n",
        "  \n",
        "print (\"LCA(4, 5) = %d\" %(findLCA(root, 4, 5,))) \n",
        "print (\"LCA(4, 6) = %d\" %(findLCA(root, 4, 6))) \n",
        "print (\"LCA(3, 4) = %d\" %(findLCA(root,3,4))) \n",
        "print (\"LCA(2, 4) = %d\" %(findLCA(root,2, 4)))\n",
        "print (\"LCA(6, 7) = %d\" %(findLCA(root,6, 7)))\n",
        "print (\"LCA(3, 7) = %d\" %(findLCA(root,3, 7))) \n",
        "print (\"LCA(2, 7) = %d\" %(findLCA(root, 2, 7)))\n"
      ],
      "execution_count": 5,
      "outputs": [
        {
          "output_type": "stream",
          "text": [
            "LCA(4, 5) = 2\n",
            "LCA(4, 6) = 1\n",
            "LCA(3, 4) = 1\n",
            "LCA(2, 4) = 2\n",
            "LCA(6, 7) = 3\n",
            "LCA(3, 7) = 3\n",
            "LCA(2, 7) = 1\n"
          ],
          "name": "stdout"
        }
      ]
    }
  ]
}